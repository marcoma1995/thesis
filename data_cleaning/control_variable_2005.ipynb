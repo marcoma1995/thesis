{
 "cells": [
  {
   "cell_type": "code",
   "execution_count": 1,
   "metadata": {},
   "outputs": [],
   "source": [
    "import pandas as pd\n",
    "import numpy as np"
   ]
  },
  {
   "cell_type": "code",
   "execution_count": 2,
   "metadata": {},
   "outputs": [],
   "source": [
    "data05 = pd.read_stata(\"../original_data/vp.dta\")"
   ]
  },
  {
   "cell_type": "code",
   "execution_count": 3,
   "metadata": {},
   "outputs": [],
   "source": [
    "# Extract and rename personal information and employment_status\n",
    "data2005 = data05.loc[:, ['hhnr','persnr','vp14701', 'vp0104', 'vp14702', 'vp148', 'vp135']]\n",
    "data2005.columns = ['cid','pid','sex', 'hh_income_satisfaction', 'year_of_birth', 'marital_status', 'german_nationality']"
   ]
  },
  {
   "cell_type": "code",
   "execution_count": 4,
   "metadata": {},
   "outputs": [],
   "source": [
    "data2005['age'] = 2005 - data2005['year_of_birth']"
   ]
  },
  {
   "cell_type": "code",
   "execution_count": 5,
   "metadata": {},
   "outputs": [],
   "source": [
    "data2005['age_sqr'] = np.square(data2005['age'])"
   ]
  },
  {
   "cell_type": "code",
   "execution_count": 6,
   "metadata": {},
   "outputs": [],
   "source": [
    "#Replace all negative number into pd.np.nan and replace string into number.\n",
    "dict_n = {'[-1] keine Angabe': pd.np.nan, '[1] Ja':1, '[2] Nein':0, '[1] Verheiratet, zusammenlebend' :1, '[2] Verheiratet, getrenntlebend':1,\n",
    "         '[3] Ledig': 0, '[4] Geschieden':0, '[5] Verwitwet':0, '[0] 0 Zufrieden: Skala 0-Niedrig bis 10-Hoch':0, '[1] 1 Zufrieden: Skala 0-Niedrig bis 10-Hoch':1,\n",
    "         '[2] 2 Zufrieden: Skala 0-Niedrig bis 10-Hoch':2, '[3] 3 Zufrieden: Skala 0-Niedrig bis 10-Hoch':3, '[4] 4 Zufrieden: Skala 0-Niedrig bis 10-Hoch':4,\n",
    "         '[5] 5 Zufrieden: Skala 0-Niedrig bis 10-Hoch':5, '[6] 6 Zufrieden: Skala 0-Niedrig bis 10-Hoch':6, '[7] 7 Zufrieden: Skala 0-Niedrig bis 10-Hoch':7,\n",
    "         '[8] 8 Zufrieden: Skala 0-Niedrig bis 10-Hoch':8, '[9] 9 Zufrieden: Skala 0-Niedrig bis 10-Hoch':9, '[10] 10 Zufrieden: Skala 0-Niedrig bis 10-Hoc':10,\n",
    "         '[1] Maennlich':1, '[2] Weiblich':0}\n",
    "\n",
    "data_05 = data2005.replace(dict_n)"
   ]
  },
  {
   "cell_type": "code",
   "execution_count": 8,
   "metadata": {},
   "outputs": [],
   "source": [
    "data_05.to_csv(\"../clean_data/control.csv\")"
   ]
  }
 ],
 "metadata": {
  "kernelspec": {
   "display_name": "Python 3",
   "language": "python",
   "name": "python3"
  },
  "language_info": {
   "codemirror_mode": {
    "name": "ipython",
    "version": 3
   },
   "file_extension": ".py",
   "mimetype": "text/x-python",
   "name": "python",
   "nbconvert_exporter": "python",
   "pygments_lexer": "ipython3",
   "version": "3.6.7"
  }
 },
 "nbformat": 4,
 "nbformat_minor": 2
}
