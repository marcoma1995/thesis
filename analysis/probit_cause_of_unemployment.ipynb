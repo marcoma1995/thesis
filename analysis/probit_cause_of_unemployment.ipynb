{
 "cells": [
  {
   "cell_type": "code",
   "execution_count": 1,
   "metadata": {},
   "outputs": [],
   "source": [
    "import pandas as pd\n",
    "import numpy as np\n",
    "from scipy.optimize import minimize\n",
    "from scipy.stats import poisson, norm\n",
    "from statsmodels.iolib.summary2 import summary_col\n",
    "import scipy.stats\n",
    "import scipy as sc\n",
    "import matplotlib.pyplot as plt\n",
    "import math\n",
    "%matplotlib inline\n",
    "import statsmodels.api as sm\n",
    "from statsmodels.discrete.discrete_model import Probit\n",
    "from patsy import dmatrices"
   ]
  },
  {
   "cell_type": "code",
   "execution_count": 2,
   "metadata": {},
   "outputs": [],
   "source": [
    "data = pd.read_csv(\"../clean_data/employ_sample.csv\")"
   ]
  },
  {
   "cell_type": "code",
   "execution_count": 3,
   "metadata": {},
   "outputs": [],
   "source": [
    "trait = ['const','openness', 'conscientiousness', 'extraversion', 'agreeableness', 'neuroticism']\n",
    "trait_control = ['const','openness', 'conscientiousness', 'extraversion', 'agreeableness', 'neuroticism', 'age', 'age_sqr', 'sex', \n",
    "                 'marital_status', 'german_nationality', 'hh_income_satisfaction']"
   ]
  },
  {
   "cell_type": "code",
   "execution_count": 4,
   "metadata": {},
   "outputs": [],
   "source": [
    "data = sm.add_constant(data)"
   ]
  },
  {
   "cell_type": "code",
   "execution_count": 5,
   "metadata": {},
   "outputs": [
    {
     "name": "stdout",
     "output_type": "stream",
     "text": [
      "Optimization terminated successfully.\n",
      "         Current function value: 0.607358\n",
      "         Iterations 5\n",
      "                          Probit Regression Results                           \n",
      "==============================================================================\n",
      "Dep. Variable:      employment_status   No. Observations:                 5171\n",
      "Model:                         Probit   Df Residuals:                     5165\n",
      "Method:                           MLE   Df Model:                            5\n",
      "Date:                Wed, 20 Mar 2019   Pseudo R-squ.:                 0.01549\n",
      "Time:                        22:33:11   Log-Likelihood:                -3140.6\n",
      "converged:                       True   LL-Null:                       -3190.1\n",
      "                                        LLR p-value:                 9.261e-20\n",
      "=====================================================================================\n",
      "                        coef    std err          z      P>|z|      [0.025      0.975]\n",
      "-------------------------------------------------------------------------------------\n",
      "const                -0.4867      0.019    -26.115      0.000      -0.523      -0.450\n",
      "openness              0.0941      0.023      4.032      0.000       0.048       0.140\n",
      "conscientiousness    -0.0078      0.033     -0.234      0.815      -0.073       0.058\n",
      "extraversion         -0.0687      0.034     -2.037      0.042      -0.135      -0.003\n",
      "agreeableness         0.1040      0.025      4.199      0.000       0.055       0.153\n",
      "neuroticism           0.1736      0.023      7.626      0.000       0.129       0.218\n",
      "=====================================================================================\n"
     ]
    }
   ],
   "source": [
    "probit_simple = sm.Probit(data.employment_status, data[trait]).fit()\n",
    "print(probit_simple.summary())"
   ]
  },
  {
   "cell_type": "code",
   "execution_count": 6,
   "metadata": {},
   "outputs": [],
   "source": [
    "Order=[ 'const', 'openness', 'conscientiousness', 'extraversion', 'agreeableness', 'neuroticism', 'age', 'age_sqr', 'sex', \n",
    "                 'marital_status', 'german_nationality', 'hh_income_satisfaction']"
   ]
  },
  {
   "cell_type": "code",
   "execution_count": 7,
   "metadata": {},
   "outputs": [
    {
     "name": "stdout",
     "output_type": "stream",
     "text": [
      "       Probit model - simple\n",
      "===================================\n",
      "                  employment_status\n",
      "-----------------------------------\n",
      "const             -0.49***         \n",
      "                  (0.02)           \n",
      "openness          0.09***          \n",
      "                  (0.02)           \n",
      "conscientiousness -0.01            \n",
      "                  (0.03)           \n",
      "extraversion      -0.07**          \n",
      "                  (0.03)           \n",
      "agreeableness     0.10***          \n",
      "                  (0.02)           \n",
      "neuroticism       0.17***          \n",
      "                  (0.02)           \n",
      "No. observations  5171             \n",
      "===================================\n",
      "Standard errors in parentheses.\n",
      "* p<.1, ** p<.05, ***p<.01\n"
     ]
    }
   ],
   "source": [
    "info_dict={'No. observations' : lambda x: f\"{int(x.nobs):d}\"}\n",
    "\n",
    "results_table = summary_col(results=[probit_simple],\n",
    "                            float_format='%0.2f',\n",
    "                            stars = True,\n",
    "                            model_names=['employment_status'],\n",
    "                            info_dict=info_dict,\n",
    "                            regressor_order=Order)\n",
    "\n",
    "results_table.add_title('Probit model - simple')\n",
    "\n",
    "print(results_table)"
   ]
  },
  {
   "cell_type": "code",
   "execution_count": 8,
   "metadata": {},
   "outputs": [
    {
     "name": "stdout",
     "output_type": "stream",
     "text": [
      "Optimization terminated successfully.\n",
      "         Current function value: 0.497266\n",
      "         Iterations 6\n",
      "                          Probit Regression Results                           \n",
      "==============================================================================\n",
      "Dep. Variable:      employment_status   No. Observations:                 5171\n",
      "Model:                         Probit   Df Residuals:                     5159\n",
      "Method:                           MLE   Df Model:                           11\n",
      "Date:                Wed, 20 Mar 2019   Pseudo R-squ.:                  0.1939\n",
      "Time:                        22:33:11   Log-Likelihood:                -2571.4\n",
      "converged:                       True   LL-Null:                       -3190.1\n",
      "                                        LLR p-value:                1.395e-258\n",
      "==========================================================================================\n",
      "                             coef    std err          z      P>|z|      [0.025      0.975]\n",
      "------------------------------------------------------------------------------------------\n",
      "const                      6.7023      0.306     21.891      0.000       6.102       7.302\n",
      "openness                   0.0557      0.025      2.184      0.029       0.006       0.106\n",
      "conscientiousness         -0.0559      0.037     -1.518      0.129      -0.128       0.016\n",
      "extraversion               0.0020      0.037      0.054      0.957      -0.071       0.075\n",
      "agreeableness              0.0392      0.028      1.419      0.156      -0.015       0.093\n",
      "neuroticism                0.1395      0.026      5.318      0.000       0.088       0.191\n",
      "age                       -0.3399      0.014    -24.680      0.000      -0.367      -0.313\n",
      "age_sqr                    0.0042      0.000     26.817      0.000       0.004       0.004\n",
      "sex                       -0.4013      0.043     -9.318      0.000      -0.486      -0.317\n",
      "marital_status            -0.0598      0.048     -1.255      0.209      -0.153       0.034\n",
      "german_nationality        -0.2779      0.089     -3.108      0.002      -0.453      -0.103\n",
      "hh_income_satisfaction    -0.0577      0.009     -6.164      0.000      -0.076      -0.039\n",
      "==========================================================================================\n"
     ]
    }
   ],
   "source": [
    "probit_control = sm.Probit(data.employment_status, data[trait_control]).fit()\n",
    "print(probit_control.summary())"
   ]
  },
  {
   "cell_type": "code",
   "execution_count": 9,
   "metadata": {},
   "outputs": [
    {
     "name": "stdout",
     "output_type": "stream",
     "text": [
      "         Probit model - control\n",
      "========================================\n",
      "                       employment_status\n",
      "----------------------------------------\n",
      "const                  6.70***          \n",
      "                       (0.31)           \n",
      "openness               0.06**           \n",
      "                       (0.03)           \n",
      "conscientiousness      -0.06            \n",
      "                       (0.04)           \n",
      "extraversion           0.00             \n",
      "                       (0.04)           \n",
      "agreeableness          0.04             \n",
      "                       (0.03)           \n",
      "neuroticism            0.14***          \n",
      "                       (0.03)           \n",
      "age                    -0.34***         \n",
      "                       (0.01)           \n",
      "age_sqr                0.00***          \n",
      "                       (0.00)           \n",
      "sex                    -0.40***         \n",
      "                       (0.04)           \n",
      "marital_status         -0.06            \n",
      "                       (0.05)           \n",
      "german_nationality     -0.28***         \n",
      "                       (0.09)           \n",
      "hh_income_satisfaction -0.06***         \n",
      "                       (0.01)           \n",
      "No. observations       5171             \n",
      "========================================\n",
      "Standard errors in parentheses.\n",
      "* p<.1, ** p<.05, ***p<.01\n"
     ]
    }
   ],
   "source": [
    "info_dict={'No. observations' : lambda x: f\"{int(x.nobs):d}\"}\n",
    "\n",
    "results_table = summary_col(results=[probit_control],\n",
    "                            float_format='%0.2f',\n",
    "                            stars = True,\n",
    "                            model_names=['employment_status'],\n",
    "                            info_dict=info_dict,\n",
    "                            regressor_order=Order)\n",
    "\n",
    "results_table.add_title('Probit model - control')\n",
    "\n",
    "print(results_table)"
   ]
  }
 ],
 "metadata": {
  "kernelspec": {
   "display_name": "Python 3",
   "language": "python",
   "name": "python3"
  },
  "language_info": {
   "codemirror_mode": {
    "name": "ipython",
    "version": 3
   },
   "file_extension": ".py",
   "mimetype": "text/x-python",
   "name": "python",
   "nbconvert_exporter": "python",
   "pygments_lexer": "ipython3",
   "version": "3.6.7"
  }
 },
 "nbformat": 4,
 "nbformat_minor": 2
}
